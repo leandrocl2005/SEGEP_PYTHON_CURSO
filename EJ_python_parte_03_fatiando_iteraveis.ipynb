{
 "cells": [
  {
   "cell_type": "markdown",
   "metadata": {},
   "source": [
    "<h1>Fatiando iteráveis</h1>"
   ]
  },
  {
   "cell_type": "markdown",
   "metadata": {},
   "source": [
    "Anteriormente vimos alguns objetos que são iteráveis: strings, listas, tuplas, dicionários e conjuntos."
   ]
  },
  {
   "cell_type": "markdown",
   "metadata": {},
   "source": [
    "Esses objetos são chamados de iteráveis uma vezes que é possível acessar ou fatiar os mesmos."
   ]
  },
  {
   "cell_type": "markdown",
   "metadata": {},
   "source": [
    "<h3>Fatiando strings</h3>"
   ]
  },
  {
   "cell_type": "markdown",
   "metadata": {},
   "source": [
    "<img src='math.svg'>"
   ]
  },
  {
   "cell_type": "code",
   "execution_count": 2,
   "metadata": {},
   "outputs": [],
   "source": [
    "name = \"Skywalker\""
   ]
  },
  {
   "cell_type": "code",
   "execution_count": 3,
   "metadata": {},
   "outputs": [
    {
     "data": {
      "text/plain": [
       "'S'"
      ]
     },
     "execution_count": 3,
     "metadata": {},
     "output_type": "execute_result"
    }
   ],
   "source": [
    "# a primeira letra\n",
    "name[0]"
   ]
  },
  {
   "cell_type": "code",
   "execution_count": 4,
   "metadata": {},
   "outputs": [
    {
     "data": {
      "text/plain": [
       "'k'"
      ]
     },
     "execution_count": 4,
     "metadata": {},
     "output_type": "execute_result"
    }
   ],
   "source": [
    "# a segunda letra\n",
    "name[1]"
   ]
  },
  {
   "cell_type": "code",
   "execution_count": 5,
   "metadata": {},
   "outputs": [
    {
     "data": {
      "text/plain": [
       "'r'"
      ]
     },
     "execution_count": 5,
     "metadata": {},
     "output_type": "execute_result"
    }
   ],
   "source": [
    "# a última letra\n",
    "name[-1]"
   ]
  },
  {
   "cell_type": "code",
   "execution_count": 6,
   "metadata": {},
   "outputs": [
    {
     "data": {
      "text/plain": [
       "'e'"
      ]
     },
     "execution_count": 6,
     "metadata": {},
     "output_type": "execute_result"
    }
   ],
   "source": [
    "# a penúltima letra\n",
    "name[-2]"
   ]
  },
  {
   "cell_type": "code",
   "execution_count": 7,
   "metadata": {},
   "outputs": [
    {
     "data": {
      "text/plain": [
       "'Sky'"
      ]
     },
     "execution_count": 7,
     "metadata": {},
     "output_type": "execute_result"
    }
   ],
   "source": [
    "# do começo até a terceira\n",
    "name[:3]"
   ]
  },
  {
   "cell_type": "code",
   "execution_count": 8,
   "metadata": {},
   "outputs": [
    {
     "data": {
      "text/plain": [
       "'Skywalk'"
      ]
     },
     "execution_count": 8,
     "metadata": {},
     "output_type": "execute_result"
    }
   ],
   "source": [
    "# do começo até a penúltima\n",
    "name[:-2]"
   ]
  },
  {
   "cell_type": "code",
   "execution_count": 9,
   "metadata": {},
   "outputs": [
    {
     "data": {
      "text/plain": [
       "'walk'"
      ]
     },
     "execution_count": 9,
     "metadata": {},
     "output_type": "execute_result"
    }
   ],
   "source": [
    "# da quarta até a ante-penúltima\n",
    "name[3:-2]"
   ]
  },
  {
   "cell_type": "code",
   "execution_count": 10,
   "metadata": {},
   "outputs": [
    {
     "data": {
      "text/plain": [
       "'kwle'"
      ]
     },
     "execution_count": 10,
     "metadata": {},
     "output_type": "execute_result"
    }
   ],
   "source": [
    "# da segunda até a penúltima de 2 em 2\n",
    "name[1:-1:2]"
   ]
  },
  {
   "cell_type": "code",
   "execution_count": 12,
   "metadata": {},
   "outputs": [
    {
     "data": {
      "text/plain": [
       "'elwk'"
      ]
     },
     "execution_count": 12,
     "metadata": {},
     "output_type": "execute_result"
    }
   ],
   "source": [
    "# da penúltima até a segunda de 2 em 2\n",
    "name[-2:0:-2]"
   ]
  },
  {
   "cell_type": "code",
   "execution_count": 13,
   "metadata": {},
   "outputs": [
    {
     "data": {
      "text/plain": [
       "'Syak'"
      ]
     },
     "execution_count": 13,
     "metadata": {},
     "output_type": "execute_result"
    }
   ],
   "source": [
    "# do começo até a penúltima de 2 em 2\n",
    "name[:-1:2]"
   ]
  },
  {
   "cell_type": "code",
   "execution_count": 14,
   "metadata": {},
   "outputs": [
    {
     "data": {
      "text/plain": [
       "'Swk'"
      ]
     },
     "execution_count": 14,
     "metadata": {},
     "output_type": "execute_result"
    }
   ],
   "source": [
    "# do começo até a última de 3 em 3\n",
    "name[::3]"
   ]
  },
  {
   "cell_type": "code",
   "execution_count": 15,
   "metadata": {},
   "outputs": [
    {
     "data": {
      "text/plain": [
       "'reklawykS'"
      ]
     },
     "execution_count": 15,
     "metadata": {},
     "output_type": "execute_result"
    }
   ],
   "source": [
    "# da úlima até a primeira de um em 1\n",
    "name[::-1]"
   ]
  },
  {
   "cell_type": "code",
   "execution_count": 17,
   "metadata": {},
   "outputs": [
    {
     "data": {
      "text/plain": [
       "'kwle'"
      ]
     },
     "execution_count": 17,
     "metadata": {},
     "output_type": "execute_result"
    }
   ],
   "source": [
    "# da segunda até a penúltima de 2 em 2\n",
    "# trocando -1 por 8\n",
    "name[1:8:2]"
   ]
  },
  {
   "cell_type": "code",
   "execution_count": 18,
   "metadata": {},
   "outputs": [
    {
     "data": {
      "text/plain": [
       "'kywal'"
      ]
     },
     "execution_count": 18,
     "metadata": {},
     "output_type": "execute_result"
    }
   ],
   "source": [
    "# do primeiro k (inclusive) até o segundo k (exceto)\n",
    "name[-8:-3]"
   ]
  },
  {
   "cell_type": "markdown",
   "metadata": {},
   "source": [
    "<h3>Fatiando listas</h3>"
   ]
  },
  {
   "cell_type": "markdown",
   "metadata": {},
   "source": [
    "Você pode fatiar listas assim como fatiar strings!"
   ]
  },
  {
   "cell_type": "code",
   "execution_count": 20,
   "metadata": {},
   "outputs": [],
   "source": [
    "# Leia o arquivo lista_compras.txt\n",
    "## TODO"
   ]
  },
  {
   "cell_type": "code",
   "execution_count": 21,
   "metadata": {},
   "outputs": [],
   "source": [
    "# coloque cada linha num elemento de uma lista chamada itens\n",
    "## TODO"
   ]
  },
  {
   "cell_type": "code",
   "execution_count": 22,
   "metadata": {},
   "outputs": [],
   "source": [
    "# feche o arquivo\n",
    "## TODO"
   ]
  },
  {
   "cell_type": "markdown",
   "metadata": {},
   "source": [
    "Use fatiamento!"
   ]
  },
  {
   "cell_type": "code",
   "execution_count": null,
   "metadata": {},
   "outputs": [],
   "source": [
    "# imprima o primeiro item da lista itens\n",
    "## TODO"
   ]
  },
  {
   "cell_type": "code",
   "execution_count": 24,
   "metadata": {},
   "outputs": [],
   "source": [
    "# imprima o segundo item da lista itens\n",
    "## TODO"
   ]
  },
  {
   "cell_type": "code",
   "execution_count": 25,
   "metadata": {},
   "outputs": [],
   "source": [
    "# imprima o último elemento da lista itens\n",
    "## TODO"
   ]
  },
  {
   "cell_type": "code",
   "execution_count": 26,
   "metadata": {},
   "outputs": [],
   "source": [
    "# imprima o penúltimo elemento da lista itens\n",
    "## TODO"
   ]
  },
  {
   "cell_type": "code",
   "execution_count": 27,
   "metadata": {},
   "outputs": [],
   "source": [
    "# imprima os três primeiros elementos da lista itens\n",
    "## TODO"
   ]
  },
  {
   "cell_type": "code",
   "execution_count": 28,
   "metadata": {},
   "outputs": [],
   "source": [
    "# imprima do 4º (inclusive) ao 6º (inclusive) elementos da lista itens\n",
    "## TODO"
   ]
  },
  {
   "cell_type": "code",
   "execution_count": 29,
   "metadata": {},
   "outputs": [],
   "source": [
    "# imprima apenas os 2º, 4º e 6º elementos da lista itens\n",
    "## TODO"
   ]
  },
  {
   "cell_type": "code",
   "execution_count": 30,
   "metadata": {},
   "outputs": [],
   "source": [
    "# imprima apenas os 5º, 7º e 9º elementos da lista itens\n",
    "## TODO"
   ]
  },
  {
   "cell_type": "code",
   "execution_count": 31,
   "metadata": {},
   "outputs": [],
   "source": [
    "# imprima apenas os 4º, 7º e 10º elementos da lista itens\n",
    "## TODO"
   ]
  },
  {
   "cell_type": "markdown",
   "metadata": {},
   "source": [
    "<h3>RANGE</h3>"
   ]
  },
  {
   "cell_type": "markdown",
   "metadata": {},
   "source": [
    "Range é um objeto para fazer lista de números. Para construir tal objeto, usa-se a built-in function <i>range</i>."
   ]
  },
  {
   "cell_type": "code",
   "execution_count": null,
   "metadata": {},
   "outputs": [],
   "source": [
    "# aqui é um exemplo\n",
    "r = range(5)"
   ]
  },
  {
   "cell_type": "code",
   "execution_count": null,
   "metadata": {},
   "outputs": [],
   "source": [
    "# qual o tipo de r?\n",
    "## TODO"
   ]
  },
  {
   "cell_type": "code",
   "execution_count": null,
   "metadata": {},
   "outputs": [],
   "source": [
    "# imprima r\n",
    "## TODO"
   ]
  },
  {
   "cell_type": "code",
   "execution_count": null,
   "metadata": {},
   "outputs": [],
   "source": [
    "# Mude o tipo de r para lista\n",
    "## TODO"
   ]
  },
  {
   "cell_type": "code",
   "execution_count": null,
   "metadata": {},
   "outputs": [],
   "source": [
    "# imprima novamente r\n",
    "## TODO"
   ]
  },
  {
   "cell_type": "markdown",
   "metadata": {},
   "source": [
    "<b>Outros exemplos</b>"
   ]
  },
  {
   "cell_type": "code",
   "execution_count": 42,
   "metadata": {},
   "outputs": [
    {
     "data": {
      "text/plain": [
       "[2, 3, 4, 5, 6]"
      ]
     },
     "execution_count": 42,
     "metadata": {},
     "output_type": "execute_result"
    }
   ],
   "source": [
    "# Iniciando range em números diferentes de zero\n",
    "list(range(2,7))"
   ]
  },
  {
   "cell_type": "code",
   "execution_count": 43,
   "metadata": {},
   "outputs": [
    {
     "data": {
      "text/plain": [
       "[15, 16, 17, 18, 19, 20]"
      ]
     },
     "execution_count": 43,
     "metadata": {},
     "output_type": "execute_result"
    }
   ],
   "source": [
    "# outro exemplo\n",
    "list( range(15,21) )"
   ]
  },
  {
   "cell_type": "code",
   "execution_count": 44,
   "metadata": {},
   "outputs": [
    {
     "data": {
      "text/plain": [
       "[13, 15, 17, 19, 21, 23]"
      ]
     },
     "execution_count": 44,
     "metadata": {},
     "output_type": "execute_result"
    }
   ],
   "source": [
    "# de 13 (inclusive) a 25 (exclusive) de 2 em 2\n",
    "list( range(13,25,2) )"
   ]
  },
  {
   "cell_type": "code",
   "execution_count": 45,
   "metadata": {},
   "outputs": [
    {
     "data": {
      "text/plain": [
       "[13, 16, 19, 22]"
      ]
     },
     "execution_count": 45,
     "metadata": {},
     "output_type": "execute_result"
    }
   ],
   "source": [
    "# de 13 (inclusive) a 25 (exclusive) de 3 em 3\n",
    "list( range(13,25,3) )"
   ]
  },
  {
   "cell_type": "code",
   "execution_count": 46,
   "metadata": {},
   "outputs": [
    {
     "data": {
      "text/plain": [
       "[-5, -3, -1, 1, 3, 5, 7, 9]"
      ]
     },
     "execution_count": 46,
     "metadata": {},
     "output_type": "execute_result"
    }
   ],
   "source": [
    "# podemos utilizar números inteiros negativos\n",
    "list(range(-5,10,2))"
   ]
  },
  {
   "cell_type": "code",
   "execution_count": 47,
   "metadata": {},
   "outputs": [
    {
     "data": {
      "text/plain": [
       "[25, 23, 21, 19, 17]"
      ]
     },
     "execution_count": 47,
     "metadata": {},
     "output_type": "execute_result"
    }
   ],
   "source": [
    "# podemos percorrer um range do maior para o menor\n",
    "list(range(25,15,-2))"
   ]
  },
  {
   "cell_type": "markdown",
   "metadata": {},
   "source": [
    "<h3>Exercício</h3>"
   ]
  },
  {
   "cell_type": "code",
   "execution_count": 48,
   "metadata": {},
   "outputs": [],
   "source": [
    "# usando range imprima a seguinte lista\n",
    "# [15,20,25,30]\n",
    "## TODO"
   ]
  },
  {
   "cell_type": "code",
   "execution_count": null,
   "metadata": {},
   "outputs": [],
   "source": [
    "# usando range imprima a seguinte lista\n",
    "# [45,30,15,0,-15]\n",
    "## TODO"
   ]
  },
  {
   "cell_type": "markdown",
   "metadata": {},
   "source": [
    "<h3>Acessando chaves de dicionários</h3>"
   ]
  },
  {
   "cell_type": "code",
   "execution_count": 32,
   "metadata": {},
   "outputs": [],
   "source": [
    "# considere o seguinte dicionário\n",
    "star_wars = {\n",
    "    'movie_name' : {\n",
    "        'A New Hope' : {\n",
    "            'year': 1977,\n",
    "            'director': 'George Lucas',\n",
    "            'duration_minutes': 121\n",
    "        },\n",
    "        'Return of the Jedi': {\n",
    "            'year': 1983,\n",
    "            'director' : 'Richard Marquand',\n",
    "            'duration_minutes' : 131\n",
    "        }\n",
    "    },\n",
    "    'general_description': 'Adventures through the galaxy.'\n",
    "}"
   ]
  },
  {
   "cell_type": "markdown",
   "metadata": {},
   "source": [
    "Para acessar o valor da chave 'general_description':"
   ]
  },
  {
   "cell_type": "code",
   "execution_count": 33,
   "metadata": {},
   "outputs": [
    {
     "data": {
      "text/plain": [
       "'Adventures through the galaxy.'"
      ]
     },
     "execution_count": 33,
     "metadata": {},
     "output_type": "execute_result"
    }
   ],
   "source": [
    "star_wars['general_description']"
   ]
  },
  {
   "cell_type": "markdown",
   "metadata": {},
   "source": [
    "O valor da chave 'movie_name' é outro dicionário:"
   ]
  },
  {
   "cell_type": "code",
   "execution_count": 34,
   "metadata": {},
   "outputs": [
    {
     "data": {
      "text/plain": [
       "{'A New Hope': {'year': 1977,\n",
       "  'director': 'George Lucas',\n",
       "  'duration_minutes': 121},\n",
       " 'Return of the Jedi': {'year': 1983,\n",
       "  'director': 'Richard Marquand',\n",
       "  'duration_minutes': 131}}"
      ]
     },
     "execution_count": 34,
     "metadata": {},
     "output_type": "execute_result"
    }
   ],
   "source": [
    "star_wars['movie_name']"
   ]
  },
  {
   "cell_type": "markdown",
   "metadata": {},
   "source": [
    "Podemos acessar a chave 'Return of the Jedi' do dicionário star_wars['movie_name']"
   ]
  },
  {
   "cell_type": "code",
   "execution_count": 35,
   "metadata": {},
   "outputs": [
    {
     "data": {
      "text/plain": [
       "{'year': 1983, 'director': 'Richard Marquand', 'duration_minutes': 131}"
      ]
     },
     "execution_count": 35,
     "metadata": {},
     "output_type": "execute_result"
    }
   ],
   "source": [
    "star_wars['movie_name']['Return of the Jedi']"
   ]
  },
  {
   "cell_type": "markdown",
   "metadata": {},
   "source": [
    "Esse tipo de objeto é muito comum na internet. O dicionário acima representa o filme \"Return of the Jedi\". Vejamos como acessar o ano de lançamento:"
   ]
  },
  {
   "cell_type": "code",
   "execution_count": 36,
   "metadata": {},
   "outputs": [
    {
     "data": {
      "text/plain": [
       "1983"
      ]
     },
     "execution_count": 36,
     "metadata": {},
     "output_type": "execute_result"
    }
   ],
   "source": [
    "star_wars['movie_name']['Return of the Jedi']['year']"
   ]
  },
  {
   "cell_type": "markdown",
   "metadata": {},
   "source": [
    "<h3>Exercício (TWITTER)</h3>"
   ]
  },
  {
   "cell_type": "markdown",
   "metadata": {},
   "source": [
    "Você pode fazer requisições de dados do twitter para seus projetos. Eles vão retornar para você um dicionário como o abaixo:"
   ]
  },
  {
   "cell_type": "code",
   "execution_count": 39,
   "metadata": {},
   "outputs": [],
   "source": [
    "twitter_post = [{\n",
    "  \"created_at\": \"Thu Jun 22 21:00:00 +0000 2017\",\n",
    "  \"id\": 877994604561387500,\n",
    "  \"id_str\": \"877994604561387520\",\n",
    "  \"text\": \"Creating a Grocery List Manager Using Angular, Part 1: Add &amp; Display Items https://t.co/xFox78juL1 #Angular\",\n",
    "  \"truncated\": False,\n",
    "  \"entities\": {\n",
    "    \"hashtags\": [{\n",
    "      \"text\": \"Angular\",\n",
    "      \"indices\": [103, 111]\n",
    "    }],\n",
    "    \"symbols\": [],\n",
    "    \"user_mentions\": [],\n",
    "    \"urls\": [{\n",
    "      \"url\": \"https://t.co/xFox78juL1\",\n",
    "      \"expanded_url\": \"http://buff.ly/2sr60pf\",\n",
    "      \"display_url\": \"buff.ly/2sr60pf\",\n",
    "      \"indices\": [79, 102]\n",
    "    }]\n",
    "  },\n",
    "  \"source\": \"<a href=\\\"http://bufferapp.com\\\" rel=\\\"nofollow\\\">Buffer</a>\",\n",
    "  \"user\": {\n",
    "    \"id\": 772682964,\n",
    "    \"id_str\": \"772682964\",\n",
    "    \"name\": \"SitePoint JavaScript\",\n",
    "    \"screen_name\": \"SitePointJS\",\n",
    "    \"location\": \"Melbourne, Australia\",\n",
    "    \"description\": \"Keep up with JavaScript tutorials, tips, tricks and articles at SitePoint.\",\n",
    "    \"url\": \"http://t.co/cCH13gqeUK\",\n",
    "    \"entities\": {\n",
    "      \"url\": {\n",
    "        \"urls\": [{\n",
    "          \"url\": \"http://t.co/cCH13gqeUK\",\n",
    "          \"expanded_url\": \"http://sitepoint.com/javascript\",\n",
    "          \"display_url\": \"sitepoint.com/javascript\",\n",
    "          \"indices\": [0, 22]\n",
    "        }]\n",
    "      },\n",
    "      \"description\": {\n",
    "        \"urls\": []\n",
    "      }\n",
    "    },\n",
    "    \"protected\": False,\n",
    "    \"followers_count\": 2145,\n",
    "    \"friends_count\": 18,\n",
    "    \"listed_count\": 328,\n",
    "    \"created_at\": \"Wed Aug 22 02:06:33 +0000 2012\",\n",
    "    \"favourites_count\": 57,\n",
    "    \"utc_offset\": 43200,\n",
    "    \"time_zone\": \"Wellington\",\n",
    "  },\n",
    "}]\n"
   ]
  },
  {
   "cell_type": "markdown",
   "metadata": {},
   "source": [
    "Fonte: https://www.sitepoint.com/twitter-json-example/"
   ]
  },
  {
   "cell_type": "markdown",
   "metadata": {},
   "source": [
    "Seu objetivo é imprimir a localização do usuário que fez o post acima!"
   ]
  },
  {
   "cell_type": "code",
   "execution_count": null,
   "metadata": {},
   "outputs": [],
   "source": [
    "## TODO"
   ]
  },
  {
   "cell_type": "markdown",
   "metadata": {},
   "source": [
    "<h3>Exercício Google maps</h3>"
   ]
  },
  {
   "cell_type": "markdown",
   "metadata": {},
   "source": [
    "Outro serviço muito usado é o Google maps. Quando você passar um endereço, é possível obter diversas informações deste endereço."
   ]
  },
  {
   "cell_type": "code",
   "execution_count": 40,
   "metadata": {},
   "outputs": [],
   "source": [
    "address = {\n",
    "   \"results\" : [\n",
    "      {\n",
    "         \"address_components\" : [\n",
    "            {\n",
    "               \"long_name\" : \"1600\",\n",
    "               \"short_name\" : \"1600\",\n",
    "               \"types\" : [ \"street_number\" ]\n",
    "            },\n",
    "            {\n",
    "               \"long_name\" : \"Amphitheatre Pkwy\",\n",
    "               \"short_name\" : \"Amphitheatre Pkwy\",\n",
    "               \"types\" : [ \"route\" ]\n",
    "            },\n",
    "            {\n",
    "               \"long_name\" : \"Mountain View\",\n",
    "               \"short_name\" : \"Mountain View\",\n",
    "               \"types\" : [ \"locality\", \"political\" ]\n",
    "            },\n",
    "            {\n",
    "               \"long_name\" : \"Santa Clara County\",\n",
    "               \"short_name\" : \"Santa Clara County\",\n",
    "               \"types\" : [ \"administrative_area_level_2\", \"political\" ]\n",
    "            },\n",
    "            {\n",
    "               \"long_name\" : \"California\",\n",
    "               \"short_name\" : \"CA\",\n",
    "               \"types\" : [ \"administrative_area_level_1\", \"political\" ]\n",
    "            },\n",
    "            {\n",
    "               \"long_name\" : \"United States\",\n",
    "               \"short_name\" : \"US\",\n",
    "               \"types\" : [ \"country\", \"political\" ]\n",
    "            },\n",
    "            {\n",
    "               \"long_name\" : \"94043\",\n",
    "               \"short_name\" : \"94043\",\n",
    "               \"types\" : [ \"postal_code\" ]\n",
    "            }\n",
    "         ],\n",
    "         \"formatted_address\" : \"1600 Amphitheatre Parkway, Mountain View, CA 94043, USA\",\n",
    "         \"geometry\" : {\n",
    "            \"location\" : {\n",
    "               \"lat\" : 37.4224764,\n",
    "               \"lng\" : -122.0842499\n",
    "            },\n",
    "            \"location_type\" : \"ROOFTOP\",\n",
    "            \"viewport\" : {\n",
    "               \"northeast\" : {\n",
    "                  \"lat\" : 37.4238253802915,\n",
    "                  \"lng\" : -122.0829009197085\n",
    "               },\n",
    "               \"southwest\" : {\n",
    "                  \"lat\" : 37.4211274197085,\n",
    "                  \"lng\" : -122.0855988802915\n",
    "               }\n",
    "            }\n",
    "         },\n",
    "         \"place_id\" : \"ChIJ2eUgeAK6j4ARbn5u_wAGqWA\",\n",
    "         \"types\" : [ \"street_address\" ]\n",
    "      }\n",
    "   ],\n",
    "   \"status\" : \"OK\"\n",
    "}"
   ]
  },
  {
   "cell_type": "markdown",
   "metadata": {},
   "source": [
    "Fonte: https://developers.google.com/maps/documentation/geocoding/intro"
   ]
  },
  {
   "cell_type": "code",
   "execution_count": null,
   "metadata": {},
   "outputs": [],
   "source": [
    "# imprima a latitude do endereço acima\n",
    "## TODO"
   ]
  },
  {
   "cell_type": "code",
   "execution_count": 41,
   "metadata": {},
   "outputs": [],
   "source": [
    "# imprima a longitude do endereço acima\n",
    "## TODO"
   ]
  },
  {
   "cell_type": "markdown",
   "metadata": {},
   "source": [
    "<b>Pausa para reflexão:</b> Aprendemos como fatiar iteráveis tais como strings e listas. Aprendemos como fazer listas com uso do <i>range</i>. Aprendemos como acessar valores em dicionários através de suas chaves! Tome nota dessas informações!"
   ]
  },
  {
   "cell_type": "code",
   "execution_count": null,
   "metadata": {},
   "outputs": [],
   "source": []
  }
 ],
 "metadata": {
  "kernelspec": {
   "display_name": "Python 3",
   "language": "python",
   "name": "python3"
  },
  "language_info": {
   "codemirror_mode": {
    "name": "ipython",
    "version": 3
   },
   "file_extension": ".py",
   "mimetype": "text/x-python",
   "name": "python",
   "nbconvert_exporter": "python",
   "pygments_lexer": "ipython3",
   "version": "3.6.5"
  }
 },
 "nbformat": 4,
 "nbformat_minor": 2
}
