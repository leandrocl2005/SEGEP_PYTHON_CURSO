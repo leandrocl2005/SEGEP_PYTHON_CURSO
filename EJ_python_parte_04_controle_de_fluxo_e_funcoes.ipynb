{
 "cells": [
  {
   "cell_type": "markdown",
   "metadata": {},
   "source": [
    "<h3>Condicionais e repetição</h3>"
   ]
  },
  {
   "cell_type": "markdown",
   "metadata": {},
   "source": [
    "Até agora vimos basicamente vários objetos em Python, algumas buil-in functions e fatiamento de iteráveis."
   ]
  },
  {
   "cell_type": "markdown",
   "metadata": {},
   "source": [
    "<h3>Condicionais</h3>"
   ]
  },
  {
   "cell_type": "markdown",
   "metadata": {},
   "source": [
    "Condicionais servem para controlar o fluxo do programa. Em outras palavras, partes do código só serão executadas se determinada condição, de valor booleano, for verdadeira. Vejamos um exemplo."
   ]
  },
  {
   "cell_type": "code",
   "execution_count": 2,
   "metadata": {},
   "outputs": [
    {
     "name": "stdout",
     "output_type": "stream",
     "text": [
      "Hello!\n"
     ]
    }
   ],
   "source": [
    "expression = True\n",
    "if expression:\n",
    "    print('Hello!')"
   ]
  },
  {
   "cell_type": "code",
   "execution_count": 3,
   "metadata": {},
   "outputs": [],
   "source": [
    "expression = False\n",
    "if expression:\n",
    "    print('Hello!')"
   ]
  },
  {
   "cell_type": "markdown",
   "metadata": {},
   "source": [
    "Espaços são importantes em estruturas de repetição. Os quatro espaços antes da linha 3, no código acima, são chamados de identação. Veja o exemplo:"
   ]
  },
  {
   "cell_type": "code",
   "execution_count": 20,
   "metadata": {},
   "outputs": [
    {
     "name": "stdout",
     "output_type": "stream",
     "text": [
      "Hello!\n"
     ]
    }
   ],
   "source": [
    "expression = False\n",
    "if expression:\n",
    "    print(\"Hi!\")\n",
    "print('Hello!')"
   ]
  },
  {
   "cell_type": "markdown",
   "metadata": {},
   "source": [
    "No segundo caso nada foi impresso. Podemos melhorar esse segundo caso imprimindo \"The expression is not True\" caso a <i>expression</i> seja falsa:"
   ]
  },
  {
   "cell_type": "code",
   "execution_count": 5,
   "metadata": {},
   "outputs": [
    {
     "name": "stdout",
     "output_type": "stream",
     "text": [
      "The expression is not True\n"
     ]
    }
   ],
   "source": [
    "expression = False\n",
    "if expression:\n",
    "    print('Hello!')\n",
    "else:\n",
    "    print( \"The expression is not True\")"
   ]
  },
  {
   "cell_type": "code",
   "execution_count": 6,
   "metadata": {},
   "outputs": [
    {
     "name": "stdout",
     "output_type": "stream",
     "text": [
      "Hello!\n"
     ]
    }
   ],
   "source": [
    "expression = True\n",
    "if expression:\n",
    "    print('Hello!')\n",
    "else:\n",
    "    print( \"The expression is not True\")"
   ]
  },
  {
   "cell_type": "markdown",
   "metadata": {},
   "source": [
    "Vejamos outro exemplo:"
   ]
  },
  {
   "cell_type": "code",
   "execution_count": 8,
   "metadata": {},
   "outputs": [
    {
     "name": "stdout",
     "output_type": "stream",
     "text": [
      "Adulto\n"
     ]
    }
   ],
   "source": [
    "idade = 23\n",
    "expression = (idade >= 18)\n",
    "if expression:\n",
    "    print(\"Adulto\")\n",
    "else:\n",
    "    print(\"Adolescente\")"
   ]
  },
  {
   "cell_type": "code",
   "execution_count": 9,
   "metadata": {},
   "outputs": [
    {
     "name": "stdout",
     "output_type": "stream",
     "text": [
      "Adolescente\n"
     ]
    }
   ],
   "source": [
    "idade = 16\n",
    "expression = (idade >= 18)\n",
    "if expression:\n",
    "    print(\"Adulto\")\n",
    "else:\n",
    "    print(\"Adolescente\")"
   ]
  },
  {
   "cell_type": "markdown",
   "metadata": {},
   "source": [
    "Para adicionar uma terceira condição:"
   ]
  },
  {
   "cell_type": "code",
   "execution_count": 10,
   "metadata": {},
   "outputs": [
    {
     "name": "stdout",
     "output_type": "stream",
     "text": [
      "Adolescente\n"
     ]
    }
   ],
   "source": [
    "idade = 16\n",
    "\n",
    "expression1 = (idade < 18)\n",
    "expression2 = (idade < 60)\n",
    "\n",
    "if expression1: # aqui basta expression1 ser verdadeira\n",
    "    print(\"Adolescente\")\n",
    "elif expression2: # aqui expression1 deve ser falsa e expression2 verdadeira\n",
    "    print(\"Adulto\")\n",
    "else: # aqui expression1 e expression2 devem ser falsas\n",
    "    print(\"Idoso\")"
   ]
  },
  {
   "cell_type": "code",
   "execution_count": 11,
   "metadata": {},
   "outputs": [
    {
     "name": "stdout",
     "output_type": "stream",
     "text": [
      "Adulto\n"
     ]
    }
   ],
   "source": [
    "idade = 56\n",
    "\n",
    "expression1 = (idade < 18)\n",
    "expression2 = (idade < 60)\n",
    "\n",
    "if expression1: # aqui basta expression1 ser verdadeira\n",
    "    print(\"Adolescente\")\n",
    "elif expression2: # aqui expression1 deve ser falsa e expression2 verdadeira\n",
    "    print(\"Adulto\")\n",
    "else: # aqui expression1 e expression2 devem ser falsas\n",
    "    print(\"Idoso\")"
   ]
  },
  {
   "cell_type": "code",
   "execution_count": 12,
   "metadata": {},
   "outputs": [
    {
     "name": "stdout",
     "output_type": "stream",
     "text": [
      "Idoso\n"
     ]
    }
   ],
   "source": [
    "idade = 65\n",
    "\n",
    "expression1 = (idade < 18)\n",
    "expression2 = (idade < 60)\n",
    "\n",
    "if expression1: # aqui basta expression1 ser verdadeira\n",
    "    print(\"Adolescente\")\n",
    "elif expression2: # aqui expression1 deve ser falsa e expression2 verdadeira\n",
    "    print(\"Adulto\")\n",
    "else: # aqui expression1 e expression2 devem ser falsas\n",
    "    print(\"Idoso\")"
   ]
  },
  {
   "cell_type": "markdown",
   "metadata": {},
   "source": [
    "<h3>Input, interagindo com o usuário</h3>"
   ]
  },
  {
   "cell_type": "markdown",
   "metadata": {},
   "source": [
    "É possível pegar a variável idade do usuário que está executando o código. Para isso, usa-se a built-in function <i>input</i>."
   ]
  },
  {
   "cell_type": "code",
   "execution_count": 14,
   "metadata": {},
   "outputs": [
    {
     "name": "stdout",
     "output_type": "stream",
     "text": [
      "Qual sua idade? 56\n",
      "Adulto\n"
     ]
    }
   ],
   "source": [
    "idade = input(\"Qual sua idade? \") # pega a idade como string\n",
    "idade = int(idade) # passa idade para inteiro\n",
    "\n",
    "if idade < 18: # aqui basta expression1 ser verdadeira\n",
    "    print(\"Adolescente\")\n",
    "elif idade < 60: # aqui expression1 deve ser falsa e expression2 verdadeira\n",
    "    print(\"Adulto\")\n",
    "else: # aqui expression1 e expression2 devem ser falsas\n",
    "    print(\"Idoso\")"
   ]
  },
  {
   "cell_type": "markdown",
   "metadata": {},
   "source": [
    "<h3>Exercício:</h3>"
   ]
  },
  {
   "cell_type": "code",
   "execution_count": 15,
   "metadata": {},
   "outputs": [],
   "source": [
    "# Peça para o usuário digita um número inteiro de 1 a 10 (ambos inclusos).\n",
    "# Guarde esse número na variável number.\n",
    "## TODO\n",
    "\n",
    "# Imprima \"PAR\" se o número digitado for par e \"IMPAR\" caso contrário\n",
    "# Use if e else\n",
    "# Dica, use a operação % (resto da divisão)\n",
    "## TODO"
   ]
  },
  {
   "cell_type": "code",
   "execution_count": null,
   "metadata": {},
   "outputs": [],
   "source": [
    "# Você vai fazer um programa para que o usuário tente adivinhar qual número você pensou\n",
    "# você pensou no número 15\n",
    "\n",
    "# Peça para o usuário digita um número inteiro de 1 a 20 (ambos inclusos).\n",
    "# Guarde esse número na variável number.\n",
    "## TODO\n",
    "\n",
    "# Imprima \"MENOR\" se o número digitado for menor que 15\n",
    "# Imprima \"MAIOR\" se o número for maior que 15\n",
    "# Imprima \"ACERTOU\" se o número for exatamente 15\n",
    "# Use if, elif e else\n",
    "## TODO"
   ]
  },
  {
   "cell_type": "markdown",
   "metadata": {},
   "source": [
    "<h3>Repetição (while)</h3>"
   ]
  },
  {
   "cell_type": "markdown",
   "metadata": {},
   "source": [
    "Suponha que queremos imprimir números pares de 2 até 10. Podemos proceder como abaixo:"
   ]
  },
  {
   "cell_type": "code",
   "execution_count": 16,
   "metadata": {},
   "outputs": [
    {
     "name": "stdout",
     "output_type": "stream",
     "text": [
      "2\n",
      "4\n",
      "6\n",
      "8\n",
      "10\n"
     ]
    }
   ],
   "source": [
    "print(2)\n",
    "print(4)\n",
    "print(6)\n",
    "print(8)\n",
    "print(10)"
   ]
  },
  {
   "cell_type": "markdown",
   "metadata": {},
   "source": [
    "Outra forma de fazer é usando <i>while</i>."
   ]
  },
  {
   "cell_type": "code",
   "execution_count": 18,
   "metadata": {},
   "outputs": [
    {
     "name": "stdout",
     "output_type": "stream",
     "text": [
      "2\n",
      "4\n",
      "6\n",
      "8\n",
      "10\n"
     ]
    }
   ],
   "source": [
    "number = 2 # número inicial a ser impresso\n",
    "while number < 11: # condição de parada (no caso de impressões)\n",
    "    print(number) # imprime number\n",
    "    number = number + 2 # atualiza number"
   ]
  },
  {
   "cell_type": "markdown",
   "metadata": {},
   "source": [
    "Identações são importantes em estruturas de repetição."
   ]
  },
  {
   "cell_type": "code",
   "execution_count": 22,
   "metadata": {},
   "outputs": [],
   "source": [
    "# Você vai fazer um programa para que o usuário tente adivinhar qual número você pensou\n",
    "# O programa deve parar apenas quando ele acertar\n",
    "# você pensou no número 15\n",
    "\n",
    "# Peça para o usuário digita um número inteiro de 1 a 20 (ambos inclusos).\n",
    "# Guarde esse número na variável number.\n",
    "## TODO\n",
    "\n",
    "# Imprima \"MENOR\" se o número digitado for menor que 15\n",
    "# Imprima \"MAIOR\" se o número for maior que 15\n",
    "# Imprima \"ACERTOU\" se o número for exatamente 15\n",
    "# Use while, if, elif e else\n",
    "# Dica: Não esqueça de pedir novamente um número ao usuário dentro da identação do while\n",
    "## TODO"
   ]
  },
  {
   "cell_type": "markdown",
   "metadata": {},
   "source": [
    "<h3>Repetição (for)</h3>"
   ]
  },
  {
   "cell_type": "markdown",
   "metadata": {},
   "source": [
    "Imprimiremos os números pares de 2 a 10, agora usando for:"
   ]
  },
  {
   "cell_type": "code",
   "execution_count": 23,
   "metadata": {},
   "outputs": [
    {
     "name": "stdout",
     "output_type": "stream",
     "text": [
      "2\n",
      "4\n",
      "6\n",
      "10\n"
     ]
    }
   ],
   "source": [
    "for number in [2,4,6,8,10]:\n",
    "    print(number)"
   ]
  },
  {
   "cell_type": "markdown",
   "metadata": {},
   "source": [
    "Podemos usar </i>range<i>:"
   ]
  },
  {
   "cell_type": "code",
   "execution_count": 24,
   "metadata": {},
   "outputs": [
    {
     "name": "stdout",
     "output_type": "stream",
     "text": [
      "2\n",
      "4\n",
      "6\n",
      "8\n",
      "10\n"
     ]
    }
   ],
   "source": [
    "for number in range(2,11,2):\n",
    "    print(number)"
   ]
  },
  {
   "cell_type": "markdown",
   "metadata": {},
   "source": [
    "O loop <i>for</i> iterage sobre qualquer tipo de iterável:"
   ]
  },
  {
   "cell_type": "code",
   "execution_count": 25,
   "metadata": {},
   "outputs": [
    {
     "name": "stdout",
     "output_type": "stream",
     "text": [
      "P\n",
      "y\n",
      "t\n",
      "h\n",
      "o\n",
      "n\n"
     ]
    }
   ],
   "source": [
    "for letter in \"Python\":\n",
    "    print(letter)"
   ]
  },
  {
   "cell_type": "code",
   "execution_count": 26,
   "metadata": {},
   "outputs": [
    {
     "name": "stdout",
     "output_type": "stream",
     "text": [
      "Rune Age\n",
      "Runewars\n",
      "Runebound\n"
     ]
    }
   ],
   "source": [
    "boardgames = ['Rune Age', 'Runewars', 'Runebound']\n",
    "for bg in boardgames:\n",
    "    print(bg)"
   ]
  },
  {
   "cell_type": "markdown",
   "metadata": {},
   "source": [
    "Podemos usar <i>for</i> para calcular o fatorial de um número n:"
   ]
  },
  {
   "cell_type": "code",
   "execution_count": 27,
   "metadata": {},
   "outputs": [
    {
     "name": "stdout",
     "output_type": "stream",
     "text": [
      "720\n"
     ]
    }
   ],
   "source": [
    "n = 6\n",
    "result = 1\n",
    "\n",
    "for i in range(1,n+1):\n",
    "    result = result * i\n",
    "\n",
    "print(result)"
   ]
  },
  {
   "cell_type": "markdown",
   "metadata": {},
   "source": [
    "Usando input podemos calcular o fatorial de um número digitado pelo usuário:"
   ]
  },
  {
   "cell_type": "code",
   "execution_count": 28,
   "metadata": {},
   "outputs": [
    {
     "name": "stdout",
     "output_type": "stream",
     "text": [
      "Entre com um número inteiro:6\n",
      "720\n"
     ]
    }
   ],
   "source": [
    "n = int(input(\"Entre com um número inteiro:\"))\n",
    "\n",
    "result = 1\n",
    "\n",
    "for i in range(1,n+1):\n",
    "    result = result * i\n",
    "\n",
    "print(result)"
   ]
  },
  {
   "cell_type": "markdown",
   "metadata": {},
   "source": [
    "<h3>Exercício</h3>"
   ]
  },
  {
   "cell_type": "code",
   "execution_count": 30,
   "metadata": {},
   "outputs": [],
   "source": [
    "# faça um programa que imprime o fatorial do número inteiro digitado pelo usuário\n",
    "# use while!!!! não vale usar for!!!!\n",
    "## TODO"
   ]
  },
  {
   "cell_type": "markdown",
   "metadata": {},
   "source": [
    "<h3>Funções</h3>"
   ]
  },
  {
   "cell_type": "markdown",
   "metadata": {},
   "source": [
    "Vejamos um exemplo de uma função que soma 10 ao número:"
   ]
  },
  {
   "cell_type": "code",
   "execution_count": 31,
   "metadata": {},
   "outputs": [],
   "source": [
    "def soma10(numero):\n",
    "    resultado = numero + 10\n",
    "    return resultado"
   ]
  },
  {
   "cell_type": "markdown",
   "metadata": {},
   "source": [
    "Vejamos agora como chamar a função:"
   ]
  },
  {
   "cell_type": "code",
   "execution_count": 32,
   "metadata": {},
   "outputs": [
    {
     "data": {
      "text/plain": [
       "37"
      ]
     },
     "execution_count": 32,
     "metadata": {},
     "output_type": "execute_result"
    }
   ],
   "source": [
    "soma10(27)"
   ]
  },
  {
   "cell_type": "markdown",
   "metadata": {},
   "source": [
    "A variável <i>numero</i> é a entrada da função <i>soma10</i>.\n",
    "Uma função pode não ter uma entrada:"
   ]
  },
  {
   "cell_type": "code",
   "execution_count": 33,
   "metadata": {},
   "outputs": [],
   "source": [
    "def queAnoEstamos():\n",
    "    return 2019"
   ]
  },
  {
   "cell_type": "markdown",
   "metadata": {},
   "source": [
    "Chamaremos a função queAnoEstamos:"
   ]
  },
  {
   "cell_type": "code",
   "execution_count": 35,
   "metadata": {},
   "outputs": [
    {
     "data": {
      "text/plain": [
       "2019"
      ]
     },
     "execution_count": 35,
     "metadata": {},
     "output_type": "execute_result"
    }
   ],
   "source": [
    "queAnoEstamos()"
   ]
  },
  {
   "cell_type": "markdown",
   "metadata": {},
   "source": [
    "Um função pode ter entradas que não são obrigatórias:"
   ]
  },
  {
   "cell_type": "code",
   "execution_count": 38,
   "metadata": {},
   "outputs": [],
   "source": [
    "def adicionaNaListaDeCompras(item='banana'):\n",
    "    return item + \" adicionado\""
   ]
  },
  {
   "cell_type": "markdown",
   "metadata": {},
   "source": [
    "Chamaremos a função sem passar uma entrada:"
   ]
  },
  {
   "cell_type": "code",
   "execution_count": 39,
   "metadata": {},
   "outputs": [
    {
     "data": {
      "text/plain": [
       "'banana adicionado'"
      ]
     },
     "execution_count": 39,
     "metadata": {},
     "output_type": "execute_result"
    }
   ],
   "source": [
    "adicionaNaListaDeCompras()"
   ]
  },
  {
   "cell_type": "markdown",
   "metadata": {},
   "source": [
    "Chamaremos a função passando uma entrada:"
   ]
  },
  {
   "cell_type": "code",
   "execution_count": 40,
   "metadata": {},
   "outputs": [
    {
     "data": {
      "text/plain": [
       "'abacaxi adicionado'"
      ]
     },
     "execution_count": 40,
     "metadata": {},
     "output_type": "execute_result"
    }
   ],
   "source": [
    "adicionaNaListaDeCompras(\"abacaxi\")"
   ]
  },
  {
   "cell_type": "markdown",
   "metadata": {},
   "source": [
    "Uma função pode aceitar mais de uma entrada:"
   ]
  },
  {
   "cell_type": "code",
   "execution_count": 41,
   "metadata": {},
   "outputs": [],
   "source": [
    "def maximo(x, y):\n",
    "    if x > y:\n",
    "        return x\n",
    "    else:\n",
    "        return y"
   ]
  },
  {
   "cell_type": "markdown",
   "metadata": {},
   "source": [
    "Vejamos como chamar a função <i>maximo</i>:"
   ]
  },
  {
   "cell_type": "code",
   "execution_count": 42,
   "metadata": {},
   "outputs": [
    {
     "data": {
      "text/plain": [
       "27"
      ]
     },
     "execution_count": 42,
     "metadata": {},
     "output_type": "execute_result"
    }
   ],
   "source": [
    "maximo(15,27)"
   ]
  },
  {
   "cell_type": "markdown",
   "metadata": {},
   "source": [
    "Podemos criar funções com vários parâmetros obrigatórios e opcionais:"
   ]
  },
  {
   "cell_type": "code",
   "execution_count": 43,
   "metadata": {},
   "outputs": [],
   "source": [
    "def crazySum(a,b,c,d=1,e=2,f=3):\n",
    "    print( a + b + c + d + 2*e + 3*f )"
   ]
  },
  {
   "cell_type": "markdown",
   "metadata": {},
   "source": [
    "Os parâmetros a, b e c são obrigatório. Se passar só dois parâmetros pra função, aparecerá mensagem de erro."
   ]
  },
  {
   "cell_type": "code",
   "execution_count": 44,
   "metadata": {},
   "outputs": [
    {
     "ename": "TypeError",
     "evalue": "crazySum() missing 1 required positional argument: 'c'",
     "output_type": "error",
     "traceback": [
      "\u001b[1;31m---------------------------------------------------------------------------\u001b[0m",
      "\u001b[1;31mTypeError\u001b[0m                                 Traceback (most recent call last)",
      "\u001b[1;32m<ipython-input-44-2ec3be16d2a3>\u001b[0m in \u001b[0;36m<module>\u001b[1;34m()\u001b[0m\n\u001b[1;32m----> 1\u001b[1;33m \u001b[0mcrazySum\u001b[0m\u001b[1;33m(\u001b[0m\u001b[1;36m5\u001b[0m\u001b[1;33m,\u001b[0m\u001b[1;36m9\u001b[0m\u001b[1;33m)\u001b[0m\u001b[1;33m\u001b[0m\u001b[0m\n\u001b[0m",
      "\u001b[1;31mTypeError\u001b[0m: crazySum() missing 1 required positional argument: 'c'"
     ]
    }
   ],
   "source": [
    "crazySum(5,9)"
   ]
  },
  {
   "cell_type": "code",
   "execution_count": 45,
   "metadata": {},
   "outputs": [
    {
     "name": "stdout",
     "output_type": "stream",
     "text": [
      "29\n"
     ]
    }
   ],
   "source": [
    "crazySum(5,9,1)"
   ]
  },
  {
   "cell_type": "markdown",
   "metadata": {},
   "source": [
    "Os opcionais não precisam se passados em ordem, desde que seja referenciado:"
   ]
  },
  {
   "cell_type": "code",
   "execution_count": 46,
   "metadata": {},
   "outputs": [
    {
     "name": "stdout",
     "output_type": "stream",
     "text": [
      "39\n"
     ]
    }
   ],
   "source": [
    "crazySum(5,9,1,e=7)"
   ]
  },
  {
   "cell_type": "markdown",
   "metadata": {},
   "source": [
    "<h3>Exercício</h3>"
   ]
  },
  {
   "cell_type": "code",
   "execution_count": 47,
   "metadata": {},
   "outputs": [],
   "source": [
    "# Faça uma função que retorne o fatorial de um número inteiro\n",
    "# entrada: inteiro -> n\n",
    "# saida: inteiro -> fatorial de n\n",
    "## TODO"
   ]
  },
  {
   "cell_type": "code",
   "execution_count": 48,
   "metadata": {},
   "outputs": [],
   "source": [
    "# Faça uma função que retorne o mdc de dois números inteiros\n",
    "# entrada: inteiros -> m, n\n",
    "# saida: inteiro -> máximo divisor comum de m e n\n",
    "## TODO"
   ]
  },
  {
   "cell_type": "markdown",
   "metadata": {},
   "source": [
    "<h3>Passando funções para lista</h3>"
   ]
  },
  {
   "cell_type": "markdown",
   "metadata": {},
   "source": [
    "Relembrando da função soma10:"
   ]
  },
  {
   "cell_type": "code",
   "execution_count": 50,
   "metadata": {},
   "outputs": [],
   "source": [
    "def soma10(x):\n",
    "    return x + 10"
   ]
  },
  {
   "cell_type": "markdown",
   "metadata": {},
   "source": [
    "Essa função pode ser passada para uma lista através da built-in function <i>map</i>."
   ]
  },
  {
   "cell_type": "code",
   "execution_count": 51,
   "metadata": {},
   "outputs": [
    {
     "name": "stdout",
     "output_type": "stream",
     "text": [
      "[12, 15, 16, 27]\n"
     ]
    }
   ],
   "source": [
    "lista = [2,5,6,17]\n",
    "lista_mais_10 = list(map(soma10, lista))\n",
    "print(lista_mais_10)"
   ]
  },
  {
   "cell_type": "markdown",
   "metadata": {},
   "source": [
    "<h3>Exercício</h3>"
   ]
  },
  {
   "cell_type": "code",
   "execution_count": 52,
   "metadata": {},
   "outputs": [],
   "source": [
    "# leia o arquivo lista_compras.txt\n",
    "## TODO"
   ]
  },
  {
   "cell_type": "code",
   "execution_count": 53,
   "metadata": {},
   "outputs": [],
   "source": [
    "# coloque cada linha num elemento de uma lista chamada itens\n",
    "## TODO"
   ]
  },
  {
   "cell_type": "code",
   "execution_count": null,
   "metadata": {},
   "outputs": [],
   "source": [
    "# feche o arquivo\n",
    "## TODO"
   ]
  },
  {
   "cell_type": "code",
   "execution_count": 54,
   "metadata": {},
   "outputs": [],
   "source": [
    "# crie uma função de nome comecaA que verifica se uma palavra word começa com 'a'\n",
    "# entrada: string -> word\n",
    "# saida: boolean -> True: se word começa com 'a', False: se word não começa com a\n",
    "## TODO"
   ]
  },
  {
   "cell_type": "code",
   "execution_count": 55,
   "metadata": {},
   "outputs": [],
   "source": [
    "# Usando map, aplique a função comecaA na lista itens\n",
    "# guarde o resultado numa variável chamada resultado\n",
    "## TODO"
   ]
  },
  {
   "cell_type": "code",
   "execution_count": 56,
   "metadata": {},
   "outputs": [],
   "source": [
    "# qual o tipo da variável resultado?\n",
    "## TODO"
   ]
  },
  {
   "cell_type": "code",
   "execution_count": 57,
   "metadata": {},
   "outputs": [],
   "source": [
    "# imprima a variável resultado\n",
    "## TODO"
   ]
  },
  {
   "cell_type": "code",
   "execution_count": 59,
   "metadata": {},
   "outputs": [],
   "source": [
    "# conte o número de True's na lista\n",
    "# dica: use o método count\n",
    "## TODO"
   ]
  },
  {
   "cell_type": "markdown",
   "metadata": {},
   "source": [
    "Meus parabéns, você sabe quantas palavras na lista começam com a letra 'a'!"
   ]
  },
  {
   "cell_type": "markdown",
   "metadata": {},
   "source": [
    "<h3>Lambda</h3>"
   ]
  },
  {
   "cell_type": "markdown",
   "metadata": {},
   "source": [
    "Vamos relembrar da nossa função <i>soma10</i>."
   ]
  },
  {
   "cell_type": "code",
   "execution_count": 60,
   "metadata": {},
   "outputs": [],
   "source": [
    "def soma10(x):\n",
    "    return x + 10"
   ]
  },
  {
   "cell_type": "markdown",
   "metadata": {},
   "source": [
    "Algumas vezes precisaremos usar a função apenas uma vez. Mais ainda, essa função pode ser bem simples, como a soma10. Para esse caso, podemos usar lambda!"
   ]
  },
  {
   "cell_type": "code",
   "execution_count": 62,
   "metadata": {},
   "outputs": [
    {
     "data": {
      "text/plain": [
       "<function __main__.<lambda>(x)>"
      ]
     },
     "execution_count": 62,
     "metadata": {},
     "output_type": "execute_result"
    }
   ],
   "source": [
    "lambda x: x + 10"
   ]
  },
  {
   "cell_type": "markdown",
   "metadata": {},
   "source": [
    "Para usar função lambda a sintaxe é a seguinte:"
   ]
  },
  {
   "cell_type": "code",
   "execution_count": 63,
   "metadata": {},
   "outputs": [
    {
     "data": {
      "text/plain": [
       "47"
      ]
     },
     "execution_count": 63,
     "metadata": {},
     "output_type": "execute_result"
    }
   ],
   "source": [
    "(lambda x: x + 10)(37)"
   ]
  },
  {
   "cell_type": "markdown",
   "metadata": {},
   "source": [
    "É possível usar a função lambda com a build-in function map:"
   ]
  },
  {
   "cell_type": "code",
   "execution_count": 65,
   "metadata": {},
   "outputs": [
    {
     "name": "stdout",
     "output_type": "stream",
     "text": [
      "[11, 12, 13, 14, 15]\n"
     ]
    }
   ],
   "source": [
    "lista = [1, 2, 3, 4, 5]\n",
    "lista_mais_10 = list(map(lambda x: x+10, lista))\n",
    "print(lista_mais_10)"
   ]
  },
  {
   "cell_type": "markdown",
   "metadata": {},
   "source": [
    "<h3>Exercício</h3>"
   ]
  },
  {
   "cell_type": "code",
   "execution_count": 66,
   "metadata": {},
   "outputs": [],
   "source": [
    "# leia o arquivo numeros.txt\n",
    "## TODO"
   ]
  },
  {
   "cell_type": "code",
   "execution_count": 67,
   "metadata": {},
   "outputs": [],
   "source": [
    "# coloque todos os números numa lista chamada numbers\n",
    "## TODO"
   ]
  },
  {
   "cell_type": "code",
   "execution_count": 68,
   "metadata": {},
   "outputs": [],
   "source": [
    "# feche o arquivo\n",
    "## TODO"
   ]
  },
  {
   "cell_type": "code",
   "execution_count": null,
   "metadata": {},
   "outputs": [],
   "source": [
    "# quantos números na lista numbers são maiores que 0?\n",
    "## TODO"
   ]
  },
  {
   "cell_type": "code",
   "execution_count": null,
   "metadata": {},
   "outputs": [],
   "source": [
    "# quantos números na lista numbers são divisíveis por 3?\n",
    "## TODO"
   ]
  },
  {
   "cell_type": "markdown",
   "metadata": {},
   "source": [
    "Compartilhe as soluções dos dois exercícios acima com a turma. Você usou função, for, if, else, map, lambda? Usou algum raciocínio diferente?"
   ]
  },
  {
   "cell_type": "markdown",
   "metadata": {},
   "source": [
    "<b>Pausa para reflexão:</b> \n",
    "\n",
    "- Aprendemos condicionais: if, elif, else\n",
    "- Aprendemos repetições: while, for\n",
    "- Aprendemos como criar funções \n",
    "- Aprendemos sobre funções lambdas \n",
    "\n",
    "Tome nota dessas informações!"
   ]
  },
  {
   "cell_type": "code",
   "execution_count": null,
   "metadata": {},
   "outputs": [],
   "source": []
  }
 ],
 "metadata": {
  "kernelspec": {
   "display_name": "Python 3",
   "language": "python",
   "name": "python3"
  },
  "language_info": {
   "codemirror_mode": {
    "name": "ipython",
    "version": 3
   },
   "file_extension": ".py",
   "mimetype": "text/x-python",
   "name": "python",
   "nbconvert_exporter": "python",
   "pygments_lexer": "ipython3",
   "version": "3.6.5"
  }
 },
 "nbformat": 4,
 "nbformat_minor": 2
}
